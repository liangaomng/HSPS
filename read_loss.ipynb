{
 "cells": [
  {
   "cell_type": "markdown",
   "metadata": {},
   "source": [
    "## This file is to read the loss.npz\n",
    "```\n",
    "In the .npz file, it have the different data.files\n",
    "```\n",
    "| __.npz__ named（） | type | shape |\n",
    "|-------|-------|-------|\n",
    "| loss | list | 单元3 |\n",
    "| recon_loss | list | 单元6 |\n",
    "| latent loss | list | 单元6 |\n",
    "| mse_loss(the same as recon_loss) | list | 单元6 |"
   ]
  },
  {
   "cell_type": "code",
   "execution_count": 1,
   "metadata": {},
   "outputs": [],
   "source": [
    "import numpy as np\n",
    "import matplotlib.pyplot as plt\n"
   ]
  },
  {
   "cell_type": "markdown",
   "metadata": {},
   "source": [
    "## This is for the loss plot\n",
    "```bash\n",
    "python .git\n",
    "```"
   ]
  },
  {
   "cell_type": "code",
   "execution_count": 2,
   "metadata": {},
   "outputs": [],
   "source": [
    "# array1 = data['loss']\n",
    "# recon_loss = data['recon_loss']\n",
    "# mse_loss= data['mse'] \n",
    "# #discount=0 mean that mse =recon_loss\n",
    "# plt.plot(array1,color='blue',alpha=0.3,label='loss')\n",
    "# plt.plot(recon_loss,color='red',alpha=0.4,label='recon_loss')\n",
    "\n",
    "# plt.legend()\n",
    "# plt.yscale('log')\n",
    "# plt.title(\"plot loss\")"
   ]
  },
  {
   "cell_type": "code",
   "execution_count": null,
   "metadata": {},
   "outputs": [],
   "source": []
  },
  {
   "cell_type": "code",
   "execution_count": 1,
   "metadata": {},
   "outputs": [],
   "source": [
    "\"\"\"\n",
    "pde2d.py\n",
    "\n",
    "PDE VAE model (PDEAutoEncoder module) for fitting data with 2 spatial dimensions.\n",
    "\"\"\"\n",
    "\n",
    "import torch\n",
    "import torch.nn as nn\n",
    "import torch.nn.functional as F\n",
    "import numpy as np\n",
    "from torch.nn.modules.utils import _pair\n",
    "\n",
    "from torch.nn.parameter import Parameter\n",
    "\n",
    "import torch.nn as nn\n",
    "\n",
    "from neuralop.models import FNO\n",
    "\n",
    "def compl_mul2d(a, b):\n",
    "    # (batch, in_channel, x,y,t ), (in_channel, out_channel, x,y,t) -> (batch, out_channel, x,y,t)\n",
    "    return torch.einsum(\"bixy,ioxy->boxy\", a, b)\n",
    "\n",
    "class SpectralConv2d(nn.Module):\n",
    "    def __init__(self, in_channels, out_channels, modes1, modes2):\n",
    "        super(SpectralConv2d, self).__init__()\n",
    "        self.in_channels = in_channels\n",
    "        self.out_channels = out_channels\n",
    "        self.modes1 = modes1 #Number of Fourier modes to multiply, at most floor(N/2) + 1\n",
    "        self.modes2 = modes2\n",
    "\n",
    "        self.scale = (1 / (in_channels * out_channels))\n",
    "        self.weights1 = nn.Parameter(self.scale * torch.rand(in_channels, out_channels, self.modes1, self.modes2, dtype=torch.cfloat))\n",
    "        self.weights2 = nn.Parameter(self.scale * torch.rand(in_channels, out_channels, self.modes1, self.modes2, dtype=torch.cfloat))\n",
    "\n",
    "    def forward(self, x, size=None):\n",
    "        if size==None:\n",
    "            size = x.size(-1)\n",
    "\n",
    "        batchsize = x.shape[0]\n",
    "        #Compute Fourier coeffcients up to factor of e^(- something constant)\n",
    "        x_ft = torch.fft.rfftn(x, dim=[2,3], norm=\"ortho\")\n",
    "\n",
    "        # Multiply relevant Fourier modes\n",
    "        out_ft = torch.zeros(batchsize, self.out_channels, size, size//2 + 1, device=x.device, dtype=torch.cfloat)\n",
    "        out_ft[:, :, :self.modes1, :self.modes2] = \\\n",
    "            compl_mul2d(x_ft[:, :, :self.modes1, :self.modes2], self.weights1)\n",
    "        out_ft[:, :, -self.modes1:, :self.modes2] = \\\n",
    "            compl_mul2d(x_ft[:, :, -self.modes1:, :self.modes2], self.weights2)\n",
    "\n",
    "\n",
    "        #Return to physical space\n",
    "        x = torch.fft.irfftn(out_ft, s=(size, size), dim=[2,3], norm=\"ortho\")\n",
    "        return x\n",
    "\n",
    "class SimpleBlock2d(nn.Module):\n",
    "    def __init__(self, in_dim, out_dim, domain_size, modes1, modes2, width): # assumes square domain\n",
    "        super(SimpleBlock2d, self).__init__()\n",
    "\n",
    "        self.modes1 = modes1\n",
    "        self.modes2 = modes2\n",
    "\n",
    "        self.width_list = [width*2//4, width*3//4, width*4//4, width*4//4, width*5//4]\n",
    "        self.size_list = [domain_size] * 5\n",
    "        self.grid_dim = 2\n",
    "\n",
    "        self.fc0 = nn.Linear(in_dim+self.grid_dim, self.width_list[0])\n",
    "\n",
    "        self.conv0 = SpectralConv2d(self.width_list[0], self.width_list[1], self.modes1*4//4, self.modes2*4//4)\n",
    "        self.conv1 = SpectralConv2d(self.width_list[1], self.width_list[2], self.modes1*3//4, self.modes2*3//4)\n",
    "        self.conv2 = SpectralConv2d(self.width_list[2], self.width_list[3], self.modes1*2//4, self.modes2*2//4)\n",
    "        self.conv3 = SpectralConv2d(self.width_list[3], self.width_list[4], self.modes1*2//4, self.modes2*2//4)\n",
    "        self.w0 = nn.Conv1d(self.width_list[0], self.width_list[1], 1)\n",
    "        self.w1 = nn.Conv1d(self.width_list[1], self.width_list[2], 1)\n",
    "        self.w2 = nn.Conv1d(self.width_list[2], self.width_list[3], 1)\n",
    "        self.w3 = nn.Conv1d(self.width_list[3], self.width_list[4], 1)\n",
    "\n",
    "        self.fc1 = nn.Linear(self.width_list[4], self.width_list[4]*2)\n",
    "        self.fc2 = nn.Linear(self.width_list[4]*2, self.width_list[4]*2)\n",
    "        self.fc3 = nn.Linear(self.width_list[4]*2, out_dim)\n",
    "\n",
    "    def forward(self, x):\n",
    "\n",
    "        batchsize = x.shape[0]\n",
    "        size_x, size_y= x.shape[1], x.shape[2]\n",
    "        grid = self.get_grid(size_x, batchsize, x.device)\n",
    "        size_list = self.size_list\n",
    "\n",
    "        x = torch.cat((x, grid.permute(0, 2, 3, 1)), dim=-1)\n",
    "\n",
    "        x = self.fc0(x)\n",
    "        x = x.permute(0, 3, 1, 2)\n",
    "\n",
    "        x1 = self.conv0(x, size_list[1])\n",
    "        x2 = self.w0(x.view(batchsize, self.width_list[0], size_list[0]**2)).view(batchsize, self.width_list[1], size_list[0], size_list[0])\n",
    "        # x2 = F.interpolate(x2, size=size_list[1], mode='trilinear')\n",
    "        x = x1 + x2\n",
    "        x = F.selu(x) \n",
    "\n",
    "        x1 = self.conv1(x, size_list[2])\n",
    "        x2 = self.w1(x.view(batchsize, self.width_list[1], size_list[1]**2)).view(batchsize, self.width_list[2], size_list[1], size_list[1])\n",
    "        # x2 = F.interpolate(x2, size=size_list[2], mode='trilinear')\n",
    "        x = x1 + x2\n",
    "        x = F.selu(x) \n",
    "\n",
    "        x1 = self.conv2(x, size_list[3])\n",
    "        x2 = self.w2(x.view(batchsize, self.width_list[2], size_list[2]**2)).view(batchsize, self.width_list[3], size_list[2], size_list[2])\n",
    "        # x2 = F.interpolate(x2, size=size_list[3], mode='trilinear')\n",
    "        x = x1 + x2\n",
    "        x = F.selu(x)\n",
    "\n",
    "        x1 = self.conv3(x, size_list[4])\n",
    "        x2 = self.w3(x.view(batchsize, self.width_list[3], size_list[3]**2)).view(batchsize, self.width_list[4], size_list[3], size_list[3])\n",
    "        # x2 = F.interpolate(x2, size=size_list[4], mode='trilinear')\n",
    "        x = x1 + x2\n",
    "\n",
    "        x = x.permute(0, 2, 3, 1)\n",
    "        x = self.fc1(x)\n",
    "        x = F.selu(x)\n",
    "        x = self.fc2(x)\n",
    "        x = F.selu(x)\n",
    "        x = self.fc3(x)\n",
    "        return x\n",
    "\n",
    "    def get_grid(self, S, batchsize, device):\n",
    "        gridx = torch.tensor(np.linspace(0, 1, S), dtype=torch.float)\n",
    "        gridx = gridx.reshape(1, 1, S, 1).repeat([batchsize, 1, 1, S])\n",
    "        gridy = torch.tensor(np.linspace(0, 1, S), dtype=torch.float)\n",
    "        gridy = gridy.reshape(1, 1, 1, S).repeat([batchsize, 1, S, 1])\n",
    "        return torch.cat((gridx, gridy), dim=1).to(device)\n",
    "\n",
    "\n",
    "class Net2d(nn.Module):\n",
    "    def __init__(self, in_dim, out_dim, domain_size, modes, width):\n",
    "        super(Net2d, self).__init__()\n",
    "        self.conv1 = SimpleBlock2d(in_dim, out_dim, domain_size, modes, modes, width)\n",
    "\n",
    "    def forward(self, x):\n",
    "        x = self.conv1(x)\n",
    "        return x\n",
    "\n",
    "\n",
    "\n",
    "\n",
    "\n",
    "class PeriodicPad1d(nn.Module):\n",
    "    def __init__(self, pad, dim=-1):\n",
    "        super(PeriodicPad1d, self).__init__()\n",
    "        self.pad = pad\n",
    "        self.dim = dim\n",
    "\n",
    "    def forward(self, x):\n",
    "        if self.pad > 0:\n",
    "            front_padding = x.narrow(self.dim, x.shape[self.dim]-self.pad, self.pad)\n",
    "            back_padding = x.narrow(self.dim, 0, self.pad)\n",
    "            x = torch.cat((front_padding, x, back_padding), dim=self.dim)\n",
    "\n",
    "        return x\n",
    "\n",
    "class AntiReflectionPad1d(nn.Module):\n",
    "    def __init__(self, pad, dim=-1):\n",
    "        super(PeriodicPad1d, self).__init__()\n",
    "        self.pad = pad\n",
    "        self.dim = dim\n",
    "\n",
    "    def forward(self, x):\n",
    "        if self.pad > 0:\n",
    "            front_padding = -x.narrow(self.dim, 0, self.pad).flip([self.dim])\n",
    "            back_padding = -x.narrow(self.dim, x.shape[self.dim]-self.pad, self.pad).flip([self.dim])\n",
    "            x = torch.cat((front_padding, x, back_padding), dim=self.dim)\n",
    "\n",
    "        return x\n",
    "\n",
    "\n",
    "class DynamicConv2d(nn.Module):\n",
    "    def __init__(self, in_channels, out_channels, kernel_size, stride=1,\n",
    "                 padding=0, dilation=1, groups=1, boundary_cond='periodic'):\n",
    "\n",
    "        super(DynamicConv2d, self).__init__()\n",
    "\n",
    "        self.kernel_size = _pair(kernel_size)\n",
    "        self.stride = _pair(stride) # not implemented\n",
    "        self.padding = _pair(padding)\n",
    "        self.dilation = _pair(dilation) # not implemented\n",
    "\n",
    "        self.in_channels = in_channels\n",
    "        self.out_channels = out_channels\n",
    "\n",
    "        self.boundary_cond = boundary_cond\n",
    "\n",
    "        if (self.padding[0] > 0 or self.padding[1] > 0) and boundary_cond == 'periodic':\n",
    "            assert self.padding[0] == int((self.kernel_size[0]-1)/2)\n",
    "            assert self.padding[1] == int((self.kernel_size[1]-1)/2)\n",
    "            self.pad = nn.Sequential(   PeriodicPad1d(self.padding[1], dim=-1), \n",
    "                                        PeriodicPad1d(self.padding[0], dim=-2))\n",
    "        else:\n",
    "            self.pad = None\n",
    "\n",
    "    def forward(self, input, weight, bias):\n",
    "        y = input\n",
    "\n",
    "        if self.pad is not None:\n",
    "            output_size = input.shape[-2:]\n",
    "            y = self.pad(y)\n",
    "        else:\n",
    "            output_size = ( input.shape[-2] - (self.kernel_size[0]-1),\n",
    "                            input.shape[-1] - (self.kernel_size[1]-1))\n",
    "        image_patches = F.unfold(y, self.kernel_size, self.dilation, 0, self.stride).transpose(1, 2)\n",
    "        y = image_patches.matmul(weight.view(-1, \n",
    "                                                self.in_channels * self.kernel_size[0] * self.kernel_size[1], \n",
    "                                                self.out_channels))\n",
    "        if bias is not None:\n",
    "            y = y + bias.view(-1, 1, self.out_channels)\n",
    "\n",
    "        return y.transpose(1, 2).view(-1, self.out_channels, output_size[0], output_size[1])\n",
    "\n",
    "\n",
    "class ConvPropagator(nn.Module):\n",
    "    def __init__(self, hidden_channels, linear_kernel_size, nonlin_kernel_size, data_channels, stride=1,\n",
    "                 linear_padding=0, nonlin_padding=0, dilation=1, groups=1, prop_layers=1, prop_noise=0., boundary_cond='periodic'):\n",
    "        super(ConvPropagator, self).__init__()  # 此处调用父类的构造函数\n",
    "        \n",
    "        self.data_channels = data_channels\n",
    "        self.prop_layers = prop_layers\n",
    "        self.prop_noise = prop_noise\n",
    "        self.boundary_cond = boundary_cond\n",
    "        self.de_fno = FNO(n_modes=(128, 128), hidden_channels=10,\n",
    "                in_channels=data_channels, out_channels=data_channels)\n",
    "\n",
    "        assert nonlin_padding == int((nonlin_kernel_size-1)/2)\n",
    "        if boundary_cond == 'crop' or boundary_cond == 'dirichlet0':\n",
    "            self.padding = int((2+prop_layers)*nonlin_padding)\n",
    "\n",
    "       \n",
    "\n",
    "        self.conv_linear = DynamicConv2d(data_channels, data_channels, linear_kernel_size, stride,\n",
    "                                    linear_padding, dilation, groups, boundary_cond) if linear_kernel_size > 0 else None\n",
    "\n",
    "        self.conv_in = DynamicConv2d(data_channels, hidden_channels, nonlin_kernel_size, stride,\n",
    "                                    nonlin_padding, dilation, groups, boundary_cond)\n",
    "\n",
    "        self.conv_out = DynamicConv2d(hidden_channels, data_channels, nonlin_kernel_size, stride,\n",
    "                                    nonlin_padding, dilation, groups, boundary_cond)\n",
    "\n",
    "        if prop_layers > 0:\n",
    "            self.conv_prop = nn.ModuleList([DynamicConv2d(hidden_channels, hidden_channels, nonlin_kernel_size, stride,\n",
    "                                            nonlin_padding, dilation, groups, boundary_cond)\n",
    "                                            for i in range(prop_layers)])\n",
    "\n",
    "        self.cutoff = Parameter(torch.Tensor([1]))\n",
    "\n",
    "    def _target_pad_2d(self, y, y0):\n",
    "        y = torch.cat((y0[:,:,:self.padding, self.padding:-self.padding], \n",
    "                        y, y0[:,:,-self.padding:,  self.padding:-self.padding]), dim=-2)\n",
    "        return torch.cat((y0[:,:,:,:self.padding], y, y0[:,:,:,-self.padding:]), dim=-1)\n",
    "\n",
    "    def _antireflection_pad_1d(self, y, dim):\n",
    "        front_padding = -y.narrow(dim, 0, self.padding).flip([dim])\n",
    "        back_padding = -y.narrow(dim, y.shape[dim]-self.padding, self.padding).flip([dim])\n",
    "        return torch.cat((front_padding, y, back_padding), dim=dim)\n",
    "\n",
    "    def _f(self, y, linear_weight, linear_bias, in_weight, in_bias, \n",
    "                    out_weight, out_bias, prop_weight, prop_bias):\n",
    "        y_lin = self.conv_linear(y, linear_weight, linear_bias) if self.conv_linear is not None else 0\n",
    "\n",
    "        y = self.conv_in(y, in_weight, in_bias)\n",
    "        y = F.leaky_relu(y, inplace=True)\n",
    "        for j in range(self.prop_layers):\n",
    "            y = self.conv_prop[j](y, prop_weight[:,j], prop_bias[:,j])\n",
    "            y = F.leaky_relu(y, inplace=True)\n",
    "        y = self.conv_out(y, out_weight, out_bias)\n",
    "\n",
    "        return y + y_lin\n",
    "\n",
    "    def forward(self, y0, linear_weight, linear_bias, \n",
    "                in_weight, in_bias, out_weight, out_bias, prop_weight, prop_bias, depth):\n",
    "        if self.boundary_cond == 'crop':\n",
    "            # requires entire target solution as y0 for padding purposes\n",
    "            assert len(y0.shape) == 5\n",
    "            assert y0.shape[1] == self.data_channels\n",
    "            assert y0.shape[2] == depth\n",
    "            y_pad = y0[:,:,0]\n",
    "            y = y0[:,:,0, self.padding:-self.padding, self.padding:-self.padding]\n",
    "        elif self.boundary_cond == 'periodic' or self.boundary_cond == 'dirichlet0':\n",
    "            assert len(y0.shape) == 4\n",
    "            assert y0.shape[1] == self.data_channels\n",
    "            y = y0\n",
    "        else:\n",
    "            raise ValueError(\"Invalid boundary condition.\")\n",
    "\n",
    "        f = lambda y: self._f(y, linear_weight, linear_bias, in_weight, in_bias, \n",
    "                                        out_weight, out_bias, prop_weight, prop_bias)\n",
    "\n",
    "        y_list = []\n",
    "        for i in range(depth):\n",
    "            if self.boundary_cond == 'crop':\n",
    "                if i > 0:\n",
    "                    y_pad = self._target_pad_2d(y, y0[:,:,i])\n",
    "            elif self.boundary_cond == 'dirichlet0':\n",
    "                y_pad = self._antireflection_pad_1d(self._antireflection_pad_1d(y, -1), -2)\n",
    "      \n",
    "            elif self.boundary_cond == 'periodic':\n",
    "                y_pad = y\n",
    "         \n",
    "\n",
    "            ### Euler integrator\n",
    "            dt = 1e-3 # NOT REAL TIME STEP, JUST HYPERPARAMETER\n",
    "            noise = self.prop_noise * torch.randn_like(y) if (self.training and self.prop_noise > 0) else 0\n",
    "\n",
    "           #y = y + self.cutoff * torch.tanh((dt * f(y_pad)) / self.cutoff) + noise\n",
    "            test = self.de_fno(y)\n",
    "\n",
    "            y = y + self.cutoff * (dt *  test) / self.cutoff\n",
    "            y_list.append(y)\n",
    "\n",
    "\n",
    "        return torch.stack(y_list, dim=-3)\n",
    "class ResidualConv3d(nn.Module):\n",
    "    def __init__(self, in_channels, out_channels, kernel_size, dilation, padding_func, pad_input):\n",
    "        super(ResidualConv3d, self).__init__()\n",
    "        self.conv = nn.Conv3d(in_channels, out_channels, kernel_size=kernel_size, dilation=dilation)\n",
    "        self.activation = nn.Tanh() if out_channels == 64 else nn.Softplus()\n",
    "        self.pad_func = padding_func\n",
    "        self.pad_input = pad_input\n",
    "\n",
    "    def forward(self, x):\n",
    "        residual = x\n",
    "        x = self.pad_func(self.pad_input, dim=-1)(x)\n",
    "        x = self.pad_func(self.pad_input, dim=-2)(x)\n",
    "        x = self.conv(x)\n",
    "        x = self.activation(x)\n",
    "        if x.size() == residual.size():\n",
    "            x += residual  # Apply residual connection if sizes match\n",
    "        return x\n",
    "class PDEAutoEncoder(nn.Module):\n",
    "    def __init__(self, param_size=1, data_channels=1, data_dimension=2, hidden_channels=16, \n",
    "                        linear_kernel_size=0, nonlin_kernel_size=5, prop_layers=1, prop_noise=0., \n",
    "                        boundary_cond='periodic', param_dropout_prob=0.1, debug=False):\n",
    "\n",
    "        assert data_dimension == 2\n",
    "\n",
    "        super(PDEAutoEncoder, self).__init__()\n",
    "\n",
    "        self.param_size = param_size\n",
    "        self.data_channels = data_channels\n",
    "        self.hidden_channels = hidden_channels\n",
    "        self.linear_kernel_size = linear_kernel_size\n",
    "        self.nonlin_kernel_size = nonlin_kernel_size\n",
    "        self.prop_layers = prop_layers\n",
    "        self.boundary_cond = boundary_cond\n",
    "        self.param_dropout_prob = param_dropout_prob\n",
    "        self.debug = debug\n",
    "        #self.layer_norm = nn.LayerNorm([39, 60, 60])\n",
    "      \n",
    "\n",
    "\n",
    "        if param_size > 0:\n",
    "            ### 3D Convolutional Encoder\n",
    "            if boundary_cond =='crop' or boundary_cond == 'dirichlet0':\n",
    "                pad_input = [0, 0, 0, 0]\n",
    "                pad_func = PeriodicPad1d # can be anything since no padding is added\n",
    "            elif boundary_cond == 'periodic':\n",
    "                pad_input = [1, 2, 4, 8]\n",
    "                pad_func = PeriodicPad1d\n",
    "            else:\n",
    "                raise ValueError(\"Invalid boundary condition.\")\n",
    "            self.encoder_blocks = nn.ModuleList()\n",
    "           # self.encoder = nn.Sequential(   pad_func(pad_input[0], dim=-1),\n",
    "                                            # pad_func(pad_input[0], dim=-2),\n",
    "                                            # nn.Conv3d(data_channels, 8,  kernel_size=(3, 3, 3), dilation=1),\n",
    "                                            # nn.Softplus(),\n",
    "\n",
    "                                            # pad_func(pad_input[1], dim=-1),\n",
    "                                            # pad_func(pad_input[1], dim=-2),\n",
    "                                            # nn.Conv3d(8, 64,  kernel_size=(3, 3, 3), dilation=2),\n",
    "                                            # nn.Tanh(),\n",
    "\n",
    "                                            # pad_func(pad_input[2], dim=-1),\n",
    "                                            # pad_func(pad_input[2], dim=-2),\n",
    "                                            # nn.Conv3d(64, 64,  kernel_size=(3, 3, 3), dilation=4),\n",
    "                                            # nn.Tanh(),\n",
    "\n",
    "                                            # pad_func(pad_input[3], dim=-1),\n",
    "                                            # pad_func(pad_input[3], dim=-2),\n",
    "                                            # nn.Conv3d(64, 64, kernel_size=(3, 3, 3), dilation=8),\n",
    "                                            # nn.Softplus(),\n",
    "                                            # )\n",
    "            channels = [data_channels, 8, 64, 64, 64]  # 输入和输出通道数\n",
    "            dilations = [1, 2, 4, 8]\n",
    "            for i in range(4):\n",
    "                self.encoder_blocks.append(\n",
    "                    ResidualConv3d(channels[i], channels[i+1], kernel_size=(3, 3, 3), \n",
    "                                dilation=dilations[i], padding_func=pad_func, pad_input=pad_input[i])\n",
    "                )\n",
    "\n",
    "            \n",
    "            \n",
    "            \n",
    "            self.encoder_to_param = nn.Sequential(\n",
    "                                                     nn.Conv3d(64, param_size,  kernel_size=(3, 3, 3), stride=1),\n",
    "                                                  )\n",
    "            self.encoder_to_logvar = nn.Sequential(\n",
    "                                                    nn.Conv3d(64, param_size,  kernel_size=(3, 3, 3), stride=1),                                \n",
    "            )\n",
    "\n",
    "            ### Parameter to weight/bias for dynamic convolutions\n",
    "            if linear_kernel_size > 0:\n",
    "                self.param_to_linear_weight = nn.Sequential( nn.Linear(param_size, 16 * data_channels * data_channels),\n",
    "                                        nn.Tanh(),\n",
    "                                        nn.Linear(16 * data_channels * data_channels, \n",
    "                                            data_channels * data_channels * linear_kernel_size * linear_kernel_size)\n",
    "                                        )\n",
    "\n",
    "            self.param_to_in_weight = nn.Sequential( nn.Linear(param_size, 16 * data_channels * hidden_channels),\n",
    "                                    nn.Tanh(),\n",
    "                                    nn.Linear(16 * data_channels * hidden_channels, \n",
    "                                        data_channels * hidden_channels * nonlin_kernel_size * nonlin_kernel_size)\n",
    "                                    )\n",
    "            self.param_to_in_bias = nn.Sequential( nn.Linear(param_size, 4 * hidden_channels),\n",
    "                                    nn.Tanh(),\n",
    "                                    nn.Linear(4 * hidden_channels, hidden_channels)\n",
    "                                    )\n",
    "\n",
    "            self.param_to_out_weight = nn.Sequential( nn.Linear(param_size, 16 * data_channels * hidden_channels),\n",
    "                                    nn.Tanh(),\n",
    "                                    nn.Linear(16 * data_channels * hidden_channels, \n",
    "                                        data_channels * hidden_channels * nonlin_kernel_size * nonlin_kernel_size)\n",
    "                                    )\n",
    "            self.param_to_out_bias = nn.Sequential( nn.Linear(param_size, 4 * data_channels),\n",
    "                                    nn.Softplus(),\n",
    "                                    nn.Linear(4 * data_channels, data_channels)\n",
    "                                    )\n",
    "\n",
    "            if prop_layers > 0:\n",
    "                self.param_to_prop_weight = nn.Sequential( nn.Linear(param_size, 16 * prop_layers * hidden_channels * hidden_channels),\n",
    "                                        nn.Softplus(),\n",
    "                                        nn.Linear(16 * prop_layers * hidden_channels * hidden_channels, \n",
    "                                            prop_layers * hidden_channels * hidden_channels * nonlin_kernel_size * nonlin_kernel_size)\n",
    "                                        )\n",
    "                self.param_to_prop_bias = nn.Sequential( nn.Linear(param_size, 4 * prop_layers * hidden_channels),\n",
    "                                         nn.Softplus(),\n",
    "                                        nn.Linear(4 * prop_layers * hidden_channels, prop_layers * hidden_channels)\n",
    "                                        )\n",
    "\n",
    "        ### Decoder/PDE simulator\n",
    "        self.decoder = ConvPropagator(hidden_channels, linear_kernel_size, nonlin_kernel_size, data_channels, \n",
    "                                        linear_padding=int((linear_kernel_size-1)/2), \n",
    "                                        nonlin_padding=int((nonlin_kernel_size-1)/2), \n",
    "                                        prop_layers=prop_layers, prop_noise=prop_noise, boundary_cond=boundary_cond)\n",
    "        \n",
    "    def forward(self, x, y0, depth):\n",
    "\n",
    "        #x = self.layer_norm(x)\n",
    "        if self.param_size > 0:\n",
    "            assert len(x.shape) == 5\n",
    "            assert x.shape[1] == self.data_channels\n",
    "\n",
    "            ### 3D Convolutional Encoder\n",
    "            #encoder_out = self.encoder(x)\n",
    "            # 使用自定义的卷积块进行编码\n",
    "            encoder_out = x\n",
    "            for block in self.encoder_blocks:\n",
    "                encoder_out = block(encoder_out)\n",
    "\n",
    "            logvar = self.encoder_to_logvar(encoder_out)\n",
    "            logvar_size = logvar.shape\n",
    "            logvar = logvar.view(logvar_size[0], logvar_size[1], -1)\n",
    "            params = self.encoder_to_param(encoder_out).view(logvar_size[0], logvar_size[1], -1)\n",
    "\n",
    "            if self.debug:\n",
    "                raw_params = params\n",
    "\n",
    "            # Parameter Spatial Averaging Dropout\n",
    "            if self.training and self.param_dropout_prob > 0:\n",
    "                mask = torch.bernoulli(torch.full_like(logvar, self.param_dropout_prob))\n",
    "                mask[mask > 0] = float(\"inf\")\n",
    "                logvar = logvar + mask\n",
    "\n",
    "            # Inverse variance weighted average of params\n",
    "            weights = F.softmax(-logvar, dim=-1)\n",
    "            params = (params * weights).sum(dim=-1)\n",
    "\n",
    "            # Compute logvar for inverse variance weighted average with a correlation length correction\n",
    "            correlation_length = 3 # estimated as receptive field of the convolutional encoder\n",
    "            logvar = -torch.logsumexp(-logvar, dim=-1) \\\n",
    "                        + torch.log(torch.tensor(\n",
    "                            max(1, (1 - self.param_dropout_prob)\n",
    "                                    * min(correlation_length, logvar_size[-3])\n",
    "                                    * min(correlation_length, logvar_size[-2])\n",
    "                                    * min(correlation_length, logvar_size[-1])),\n",
    "                            dtype=logvar.dtype, device=logvar.device))\n",
    "\n",
    "            ### Variational autoencoder reparameterization trick\n",
    "            if self.training:\n",
    "                stdv = (0.5 * logvar).exp() * 0.1\n",
    "                # Sample from unit normal\n",
    "                z = params + stdv * torch.randn_like(stdv) \n",
    "            else:\n",
    "                z = params\n",
    "\n",
    "            ### Parameter to weight/bias for dynamic convolutions\n",
    "            if self.linear_kernel_size > 0:\n",
    "                linear_weight = self.param_to_linear_weight(z)\n",
    "                linear_bias = None\n",
    "            else:\n",
    "                linear_weight = None\n",
    "                linear_bias = None\n",
    "\n",
    "            in_weight = self.param_to_in_weight(z)\n",
    "            in_bias = self.param_to_in_bias(z)\n",
    "\n",
    "            out_weight = self.param_to_out_weight(z)\n",
    "            out_bias = self.param_to_out_bias(z)\n",
    "\n",
    "            if self.prop_layers > 0:\n",
    "                prop_weight = self.param_to_prop_weight(z).view(-1, self.prop_layers,\n",
    "                                    self.hidden_channels * self.hidden_channels * self.nonlin_kernel_size * self.nonlin_kernel_size)\n",
    "                prop_bias = self.param_to_prop_bias(z).view(-1, self.prop_layers, self.hidden_channels)\n",
    "            else:\n",
    "                prop_weight = None\n",
    "                prop_bias = None\n",
    "\n",
    "        else: # if no parameter used\n",
    "            linear_weight = None\n",
    "            linear_bias = None\n",
    "            in_weight = None\n",
    "            in_bias = None\n",
    "            out_weight = None\n",
    "            out_bias = None\n",
    "            prop_weight = None\n",
    "            prop_bias = None\n",
    "            params = None\n",
    "            logvar = None\n",
    "\n",
    "        ### Decoder/PDE simulator\n",
    "        y = self.decoder(y0, linear_weight, linear_bias, in_weight, in_bias, out_weight, out_bias, \n",
    "                                prop_weight, prop_bias, depth)\n",
    "\n",
    "        if self.debug:\n",
    "            return y, params, logvar, [in_weight, in_bias, out_weight, out_bias, prop_weight, prop_bias], \\\n",
    "                    weights.view(logvar_size), raw_params.view(logvar_size)\n",
    "\n",
    "        return y, params, logvar\n"
   ]
  },
  {
   "cell_type": "code",
   "execution_count": 4,
   "metadata": {},
   "outputs": [
    {
     "name": "stderr",
     "output_type": "stream",
     "text": [
      "/opt/conda/lib/python3.8/site-packages/torch/cuda/memory.py:303: FutureWarning: torch.cuda.reset_max_memory_allocated now calls torch.cuda.reset_peak_memory_stats, which resets /all/ peak memory stats.\n",
      "  warnings.warn(\n"
     ]
    }
   ],
   "source": [
    "torch.cuda.reset_max_memory_allocated()  # 重置最大内存计数器\n",
    "\n",
    "torch.cuda.reset_accumulated_memory_stats()  # 重置累积内存统计\n",
    "\n"
   ]
  },
  {
   "cell_type": "code",
   "execution_count": 3,
   "metadata": {},
   "outputs": [],
   "source": [
    "model_parater =torch.load(\"fish_run_vp_fno4/best.tar\")\n",
    "model = PDEAutoEncoder(param_size=1, data_channels=2, data_dimension=2, hidden_channels=5, \n",
    "                        linear_kernel_size=0, nonlin_kernel_size=3, prop_layers=1, prop_noise=0., \n",
    "                        boundary_cond='dirichlet0', param_dropout_prob=0.1, debug=False)"
   ]
  },
  {
   "cell_type": "code",
   "execution_count": 4,
   "metadata": {},
   "outputs": [],
   "source": [
    "\n",
    "model.load_state_dict(model_parater)\n",
    "model = model.float().to(\"cuda\")"
   ]
  },
  {
   "cell_type": "code",
   "execution_count": 5,
   "metadata": {},
   "outputs": [
    {
     "data": {
      "image/png": "[encoded data removed]",
      "text/plain": [
       "<Figure size 432x288 with 1 Axes>"
      ]
     },
     "metadata": {
      "needs_background": "light"
     },
     "output_type": "display_data"
    }
   ],
   "source": [
    "import numpy as np\n",
    "import matplotlib.pyplot as plt\n",
    "data_train = np.load(\"data/wave_vel/Fish_wave_vel_vp_data.npz\")\n",
    "plt.imshow(data_train[\"x\"][0,:,10,:60,:60].reshape(-1,60),cmap=\"bwr\",vmin=-1,vmax=1)\n",
    "plt.axis('off')\n",
    "plt.tight_layout()\n",
    "plt.savefig(\"fish.png\",dpi=250)"
   ]
  },
  {
   "cell_type": "code",
   "execution_count": 6,
   "metadata": {},
   "outputs": [],
   "source": [
    "data_train_torch= torch.from_numpy(data_train[\"x\"]).float()"
   ]
  },
  {
   "cell_type": "code",
   "execution_count": 7,
   "metadata": {},
   "outputs": [
    {
     "data": {
      "text/plain": [
       "torch.Size([1, 2, 39, 60, 60])"
      ]
     },
     "execution_count": 7,
     "metadata": {},
     "output_type": "execute_result"
    }
   ],
   "source": [
    "data_train_torch= data_train_torch[0:1,:,:39,:60,:60].to(\"cuda\")\n",
    "data_train_torch.shape"
   ]
  },
  {
   "cell_type": "code",
   "execution_count": 8,
   "metadata": {},
   "outputs": [
    {
     "data": {
      "text/plain": [
       "torch.Size([1, 2, 60, 60])"
      ]
     },
     "execution_count": 8,
     "metadata": {},
     "output_type": "execute_result"
    }
   ],
   "source": [
    "y0=data_train_torch[:,:,1,:80,:80]\n",
    "y0.shape"
   ]
  },
  {
   "cell_type": "code",
   "execution_count": 9,
   "metadata": {},
   "outputs": [
    {
     "data": {
      "text/plain": [
       "torch.Size([1, 2, 60, 60])"
      ]
     },
     "execution_count": 9,
     "metadata": {},
     "output_type": "execute_result"
    }
   ],
   "source": [
    "y0.shape"
   ]
  },
  {
   "cell_type": "code",
   "execution_count": 10,
   "metadata": {},
   "outputs": [],
   "source": [
    "a,u,logvar=model(data_train_torch,y0,50)"
   ]
  },
  {
   "cell_type": "code",
   "execution_count": 11,
   "metadata": {},
   "outputs": [
    {
     "data": {
      "text/plain": [
       "tensor([[-9.2242]], device='cuda:0', grad_fn=<AddBackward0>)"
      ]
     },
     "execution_count": 11,
     "metadata": {},
     "output_type": "execute_result"
    }
   ],
   "source": [
    "logvar\n"
   ]
  },
  {
   "cell_type": "code",
   "execution_count": 12,
   "metadata": {},
   "outputs": [],
   "source": [
    "a.shape\n",
    "from matplotlib.animation import FuncAnimation"
   ]
  },
  {
   "cell_type": "code",
   "execution_count": 13,
   "metadata": {},
   "outputs": [],
   "source": [
    "\n",
    "class Ani():\n",
    "    def __init__(self, vae_data, mean, logvar, true):\n",
    "        self.vae_frames = vae_data  # [batch, 1, t, h, w]\n",
    "        self.true_frames = true\n",
    "        self.mu = mean\n",
    "        self.var = np.exp(logvar)  # Assuming logvar is log variance\n",
    "        self.fig, self.ax = plt.subplots(2, 1, figsize=(12, 12))  # 创建两个子图\n",
    "\n",
    "    def init_ani(self):\n",
    "        # 初始化动画的第一帧\n",
    "        self.vae_image = self.ax[0].imshow(self.vae_frames[0, 1, 0, :, :], vmin=-1, vmax=1, cmap='bwr')\n",
    "        self.true_image = self.ax[1].imshow(self.true_frames[0, 1, 0, :, :], vmin=-1, vmax=1, cmap='bwr')\n",
    "        self.cbar_vae = self.fig.colorbar(self.vae_image, ax=self.ax[0], fraction=0.046, pad=0.04)\n",
    "        self.cbar_true = self.fig.colorbar(self.true_image, ax=self.ax[1], fraction=0.046, pad=0.04)\n",
    "        self.ax[0].set_title(\"VAE Generated\")\n",
    "        self.ax[1].set_title(\"True Frame\")\n",
    "\n",
    "    def update_ani(self, t):\n",
    "        # 更新动画的每一帧\n",
    "        self.vae_image.set_data(self.vae_frames[0, 1, t, :, :])  # 更新VAE生成的数据\n",
    "        self.true_image.set_data(self.true_frames[0, 1, t, :, :])  # 更新真实数据\n",
    "        self.ax[0].set_title(f\"Step {t} cue {self.mu:.2e} and variance is {self.var:.2e}\", fontsize=20)\n",
    "        self.ax[1].set_title(f\"Step {t} True Frame\", fontsize=20)\n",
    "\n",
    "    def save_ani(self, frames_number=38):\n",
    "        # 创建并保存动画\n",
    "        ani = FuncAnimation(self.fig, self.update_ani, frames=frames_number, init_func=self.init_ani, repeat=False)\n",
    "        ani.save(f'VAE_video_p.gif', writer='imagemagick', fps=700)  # 注意: 根据你的环境配置，可能需要使用不同的writer"
   ]
  },
  {
   "cell_type": "code",
   "execution_count": 14,
   "metadata": {},
   "outputs": [
    {
     "name": "stderr",
     "output_type": "stream",
     "text": [
      "MovieWriter imagemagick unavailable; using Pillow instead.\n"
     ]
    },
    {
     "data": {
      "image/png": "[encoded data removed]",
      "text/plain": [
       "<Figure size 864x864 with 4 Axes>"
      ]
     },
     "metadata": {
      "needs_background": "light"
     },
     "output_type": "display_data"
    }
   ],
   "source": [
    "vae_data= a.cpu().detach().numpy()\n",
    "data_train_numpy = data_train_torch.cpu().detach().numpy() \n",
    "ani = Ani(vae_data = vae_data,mean=u.item(),logvar=logvar.item(),true=data_train_numpy)\n",
    "ani.save_ani()"
   ]
  },
  {
   "cell_type": "code",
   "execution_count": 1,
   "metadata": {},
   "outputs": [
    {
     "ename": "NameError",
     "evalue": "name 'plt' is not defined",
     "output_type": "error",
     "traceback": [
      "\u001b[0;31m---------------------------------------------------------------------------\u001b[0m",
      "\u001b[0;31mNameError\u001b[0m                                 Traceback (most recent call last)",
      "Cell \u001b[0;32mIn[1], line 1\u001b[0m\n\u001b[0;32m----> 1\u001b[0m \u001b[43mplt\u001b[49m\u001b[38;5;241m.\u001b[39mimshow(y0[:,:,:,:]\u001b[38;5;241m.\u001b[39mcpu()\u001b[38;5;241m.\u001b[39mdetach()\u001b[38;5;241m.\u001b[39mnumpy()\u001b[38;5;241m.\u001b[39mreshape(\u001b[38;5;241m126\u001b[39m,\u001b[38;5;241m254\u001b[39m),cmap\u001b[38;5;241m=\u001b[39m\u001b[38;5;124m\"\u001b[39m\u001b[38;5;124mbwr\u001b[39m\u001b[38;5;124m\"\u001b[39m,vmin\u001b[38;5;241m=\u001b[39m\u001b[38;5;241m-\u001b[39m\u001b[38;5;241m1\u001b[39m,vmax\u001b[38;5;241m=\u001b[39m\u001b[38;5;241m1\u001b[39m)\n",
      "\u001b[0;31mNameError\u001b[0m: name 'plt' is not defined"
     ]
    }
   ],
   "source": [
    "plt.imshow(y0[:,:,:,:].cpu().detach().numpy().reshape(126,254),cmap=\"bwr\",vmin=-1,vmax=1)"
   ]
  },
  {
   "cell_type": "code",
   "execution_count": null,
   "metadata": {},
   "outputs": [
    {
     "data": {
      "text/plain": [
       "<matplotlib.image.AxesImage at 0x7fc971740c40>"
      ]
     },
     "execution_count": 179,
     "metadata": {},
     "output_type": "execute_result"
    },
    {
     "data": {
      "image/png": "[encoded data removed]",
      "text/plain": [
       "<Figure size 432x288 with 1 Axes>"
      ]
     },
     "metadata": {
      "needs_background": "light"
     },
     "output_type": "display_data"
    }
   ],
   "source": [
    "plt.imshow(data_train_torch[:,:,59,:,:].cpu().detach().numpy().reshape(126,254),cmap=\"bwr\",vmin=-1,vmax=1)"
   ]
  },
  {
   "cell_type": "code",
   "execution_count": null,
   "metadata": {},
   "outputs": [
    {
     "data": {
      "image/png": "[encoded data removed]",
      "text/plain": [
       "<Figure size 432x288 with 2 Axes>"
      ]
     },
     "metadata": {
      "needs_background": "light"
     },
     "output_type": "display_data"
    }
   ],
   "source": [
    "import matplotlib.pyplot as plt\n",
    "import numpy as np\n",
    "\n",
    "# 假设这些是你的数据\n",
    "var_data = [0.5, 0.2, 0.3, 0.4, 0.1]  # 方差数据\n",
    "mean_data = [0.02, 0.01, 0.03, 0.04, 0.05]  # 平均值数据\n",
    "labels = ['1', '2', '3', '4', '5']  # 潜在参数标签\n",
    "\n",
    "# 设置柱状图的位置和宽度\n",
    "x = np.arange(len(labels))  # label位置\n",
    "width = 0.35  # 柱状图的宽度\n",
    "\n",
    "fig, ax1 = plt.subplots()\n",
    "\n",
    "# 绘制方差数据的柱状图\n",
    "rects1 = ax1.bar(x - width/2, var_data, width, label='Var(µz)', color='tab:blue')\n",
    "\n",
    "# 使用相同的x轴，但不同的y轴绘制平均值数据的柱状图\n",
    "ax2 = ax1.twinx()\n",
    "rects2 = ax2.bar(x + width/2, mean_data, width, label='Mean(σz^2)', color='tab:red')\n",
    "\n",
    "# 添加标签、标题和自定义x轴刻度标签\n",
    "ax1.set_xlabel('Latent parameters')\n",
    "ax1.set_ylabel('Var(µz)', color='tab:blue')\n",
    "ax2.set_ylabel('Mean(σz^2)', color='tab:red')\n",
    "ax1.set_xticks(x)\n",
    "ax1.set_xticklabels(labels)\n",
    "ax1.tick_params(axis='y', labelcolor='tab:blue')\n",
    "ax2.tick_params(axis='y', labelcolor='tab:red')\n",
    "\n",
    "# 添加图例\n",
    "ax1.legend(loc='upper left')\n",
    "ax2.legend(loc='upper right')\n",
    "\n",
    "fig.tight_layout()\n",
    "plt.show()\n"
   ]
  },
  {
   "cell_type": "code",
   "execution_count": null,
   "metadata": {},
   "outputs": [
    {
     "data": {
      "image/png": "[encoded data removed]",
      "text/plain": [
       "<Figure size 720x360 with 2 Axes>"
      ]
     },
     "metadata": {
      "needs_background": "light"
     },
     "output_type": "display_data"
    }
   ],
   "source": [
    "import numpy as np\n",
    "import matplotlib.pyplot as plt\n",
    "from scipy.stats import multivariate_normal, norm\n",
    "\n",
    "# 设定随机数种子以便结果复现\n",
    "np.random.seed(0)\n",
    "\n",
    "# 两维度高斯分布的mu和sigma\n",
    "mu_2d = np.array([0, 0])\n",
    "sigma_2d = np.array([[1, 0.5], [0.5, 1]])\n",
    "\n",
    "# 创建网格坐标\n",
    "x, y = np.mgrid[-3:3:.01, -3:3:.01]\n",
    "pos = np.dstack((x, y))\n",
    "\n",
    "# 计算二维高斯分布\n",
    "rv = multivariate_normal(mu_2d, sigma_2d)\n",
    "z = rv.pdf(pos)\n",
    "\n",
    "# 绘制二维高斯分布\n",
    "plt.figure(figsize=(10, 5))\n",
    "\n",
    "plt.subplot(1, 2, 1)\n",
    "plt.contourf(x, y, z, cmap='Blues')\n",
    "plt.colorbar()\n",
    "plt.title('2D Gaussian distribution')\n",
    "plt.xlabel('X-axis')\n",
    "plt.ylabel('Y-axis')\n",
    "plt.axis('equal')\n",
    "\n",
    "# 一维度高斯分布的mu和sigma\n",
    "mu_1d = 0\n",
    "sigma_1d = 1\n",
    "\n",
    "# 创建一维坐标\n",
    "x_1d = np.linspace(-3, 3, 1000)\n",
    "\n",
    "# 计算一维高斯分布\n",
    "pdf = norm(mu_1d, sigma_1d).pdf(x_1d)\n",
    "\n"
   ]
  },
  {
   "cell_type": "code",
   "execution_count": null,
   "metadata": {},
   "outputs": [
    {
     "data": {
      "image/png": "[encoded data removed]",
      "text/plain": [
       "<Figure size 720x360 with 3 Axes>"
      ]
     },
     "metadata": {
      "needs_background": "light"
     },
     "output_type": "display_data"
    }
   ],
   "source": [
    "import numpy as np\n",
    "import matplotlib.pyplot as plt\n",
    "from scipy.stats import multivariate_normal, norm\n",
    "\n",
    "# 设定随机数种子以便结果复现\n",
    "np.random.seed(0)\n",
    "\n",
    "# 两维度高斯分布的mu和sigma\n",
    "mu_2d = np.array([0, 0])\n",
    "sigma_2d = np.array([[2, 0.5], [0.5, 1]])\n",
    "\n",
    "# 创建网格坐标\n",
    "x, y = np.mgrid[-3:3:.01, -3:3:.01]\n",
    "pos = np.dstack((x, y))\n",
    "\n",
    "# 计算二维高斯分布\n",
    "rv = multivariate_normal(mu_2d, sigma_2d)\n",
    "z = rv.pdf(pos)\n",
    "\n",
    "# 绘制二维高斯分布\n",
    "plt.figure(figsize=(10, 5))\n",
    "\n",
    "plt.subplot(1, 2, 1)\n",
    "plt.contourf(x, y, z, cmap='Blues')\n",
    "plt.colorbar()\n",
    "plt.title('2D Gaussian distribution')\n",
    "plt.xlabel('X-axis')\n",
    "plt.ylabel('Y-axis')\n",
    "plt.axis('equal')\n",
    "\n",
    "# 一维度高斯分布的mu和sigma\n",
    "mu_1d = 0\n",
    "sigma_1d = 0.1113\n",
    "\n",
    "# 创建一维坐标\n",
    "x_1d = np.linspace(-3, 3, 600)\n",
    "\n",
    "# 计算一维高斯分布\n",
    "pdf = norm(mu_1d, sigma_1d).cdf(x_1d)\n",
    "\n",
    "# 绘制一维高斯分布\n",
    "plt.subplot(1, 2, 2)\n",
    "plt.plot(x_1d, pdf, 'k-', lw=2)\n",
    "plt.title('1D Gaussian distribution')\n",
    "plt.xlabel('X-axis')\n",
    "plt.ylabel('Probability density')\n",
    "\n",
    "plt.tight_layout()\n",
    "plt.show()\n"
   ]
  },
  {
   "cell_type": "code",
   "execution_count": null,
   "metadata": {},
   "outputs": [
    {
     "name": "stderr",
     "output_type": "stream",
     "text": [
      "/opt/conda/lib/python3.8/site-packages/sklearn/manifold/_t_sne.py:780: FutureWarning: The default initialization in TSNE will change from 'random' to 'pca' in 1.2.\n",
      "  warnings.warn(\n",
      "/opt/conda/lib/python3.8/site-packages/sklearn/manifold/_t_sne.py:790: FutureWarning: The default learning rate in TSNE will change from 200.0 to 'auto' in 1.2.\n",
      "  warnings.warn(\n"
     ]
    },
    {
     "data": {
      "image/png": "[encoded data removed]",
      "text/plain": [
       "<Figure size 432x288 with 2 Axes>"
      ]
     },
     "metadata": {
      "needs_background": "light"
     },
     "output_type": "display_data"
    }
   ],
   "source": [
    "from sklearn.manifold import TSNE\n",
    "import matplotlib.pyplot as plt\n",
    "import numpy as np\n",
    "\n",
    "# Assuming `data` is a (n_samples, 5) NumPy array with your high-dimensional data.\n",
    "# For demonstration, using random data.\n",
    "np.random.seed(0)\n",
    "data = np.random.rand(100, 5)\n",
    "\n",
    "# Initialize a t-SNE object.\n",
    "tsne = TSNE(n_components=2, random_state=0)\n",
    "\n",
    "# Reduce the dimensionality of the data.\n",
    "data_reduced = tsne.fit_transform(data)\n",
    "\n",
    "# Plot the reduced data, mapping the color to the x-coordinate.\n",
    "# The larger the x-coordinate, the darker the color.\n",
    "plt.scatter(data_reduced[:, 0], data_reduced[:, 1], c=data_reduced[:, 0], cmap='rainbow')\n",
    "plt.colorbar(label='X Coordinate Intensity')  # Show color scale\n",
    "plt.title('t-SNE Reduced Data with X-Coordinate Intensity Colors')\n",
    "plt.xlabel('Dimension 1')\n",
    "plt.ylabel('Dimension 2')\n",
    "plt.show()\n"
   ]
  }
 ],
 "metadata": {
  "kernelspec": {
   "display_name": "base",
   "language": "python",
   "name": "python3"
  },
  "language_info": {
   "codemirror_mode": {
    "name": "ipython",
    "version": 3
   },
   "file_extension": ".py",
   "mimetype": "text/x-python",
   "name": "python",
   "nbconvert_exporter": "python",
   "pygments_lexer": "ipython3",
   "version": "3.8.18"
  }
 },
 "nbformat": 4,
 "nbformat_minor": 2
}
